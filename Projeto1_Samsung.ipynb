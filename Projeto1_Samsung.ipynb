{
 "cells": [
  {
   "cell_type": "markdown",
   "metadata": {},
   "source": [
    "# Projeto 1 - Ciência dos Dados"
   ]
  },
  {
   "cell_type": "markdown",
   "metadata": {},
   "source": [
    "Nome: Anna Beatriz Lima\n",
    "\n",
    "Nome: Pedro Rubens"
   ]
  },
  {
   "cell_type": "markdown",
   "metadata": {},
   "source": [
    "Atenção: Serão permitidos grupos de três pessoas, mas com uma rubrica mais exigente. Grupos deste tamanho precisarão fazer um questionário de avaliação de trabalho em equipe"
   ]
  },
  {
   "cell_type": "markdown",
   "metadata": {},
   "source": [
    "___\n",
    "Carregando algumas bibliotecas:"
   ]
  },
  {
   "cell_type": "markdown",
   "metadata": {},
   "source": [
    "___\n",
    "## Importando Bibliotecas\n"
   ]
  },
  {
   "cell_type": "code",
   "execution_count": 26,
   "metadata": {},
   "outputs": [],
   "source": [
    "%matplotlib inline\n",
    "import pandas as pd\n",
    "import matplotlib.pyplot as plt\n",
    "import numpy as np\n",
    "import os\n",
    "import re"
   ]
  },
  {
   "cell_type": "code",
   "execution_count": 27,
   "metadata": {
    "scrolled": false
   },
   "outputs": [
    {
     "name": "stdout",
     "output_type": "stream",
     "text": [
      "Esperamos trabalhar no diretório\n",
      "C:\\Users\\AnnaBeatriz\\INSPER\\2020.1\\cdados\\Projeto1-ttw\n"
     ]
    }
   ],
   "source": [
    "print('Esperamos trabalhar no diretório')\n",
    "print(os.getcwd())"
   ]
  },
  {
   "cell_type": "code",
   "execution_count": 28,
   "metadata": {},
   "outputs": [],
   "source": [
    "# função para limpar as bases \n",
    "def cleanup(text):\n",
    "    \"\"\"\n",
    "        Função de limpeza muito simples que troca alguns sinais básicos por espaços\n",
    "    \"\"\"\n",
    "    import string\n",
    "    punctuation = '[!-.:?;]' # Note que os sinais [] são delimitadores de um conjunto.\n",
    "    pattern = re.compile(punctuation)\n",
    "    text_subbed = re.sub(pattern, ' ', text)\n",
    "    return text_subbed"
   ]
  },
  {
   "cell_type": "markdown",
   "metadata": {},
   "source": [
    "Carregando a base de dados com os tweets classificados como relevantes e não relevantes:"
   ]
  },
  {
   "cell_type": "code",
   "execution_count": 29,
   "metadata": {},
   "outputs": [],
   "source": [
    "samsung_data = pd.read_excel('samsung1.xlsx')"
   ]
  },
  {
   "cell_type": "markdown",
   "metadata": {},
   "source": [
    "___\n",
    "## Classificador automático de sentimento\n"
   ]
  },
  {
   "cell_type": "markdown",
   "metadata": {},
   "source": [
    "Faça aqui uma descrição do seu produto e o que considerou como relevante ou não relevante na classificação dos tweets.\n",
    "\n",
    "Escolhemos a samsung que consiste em uma marca de celulares, relógios e outros produtos voltados a tecnologia. Classificamos como relevante todos aqueles tweets que exibem alguma crítica ou sugestão. Coisas que são relevantes para a marca em si e sobre os produtos que a mesma oferece e classificamos como irrelevantes todos os tweets que contém informações superficiais e que não agregam nada para a marca."
   ]
  },
  {
   "cell_type": "markdown",
   "metadata": {},
   "source": [
    "___\n",
    "### Montando um Classificador Naive-Bayes\n",
    "\n",
    "Considerando apenas as mensagens da planilha Treinamento, ensine  seu classificador."
   ]
  },
  {
   "cell_type": "code",
   "execution_count": 30,
   "metadata": {},
   "outputs": [],
   "source": [
    "sum_negativo = samsung_data['Grau de relevância'] == 2.0\n",
    "negativo = samsung_data.loc[sum_negativo, :]\n",
    "\n",
    "sum_positivo = samsung_data['Grau de relevância'] == 1.0\n",
    "positivo = samsung_data.loc[sum_positivo, :]\n",
    "\n",
    "sum_neutro = samsung_data['Grau de relevância'] == 0.0\n",
    "neutro = samsung_data.loc[sum_neutro, :]"
   ]
  },
  {
   "cell_type": "markdown",
   "metadata": {},
   "source": [
    "___\n",
    "### Limpeza das bases"
   ]
  },
  {
   "cell_type": "code",
   "execution_count": 31,
   "metadata": {},
   "outputs": [],
   "source": [
    "positivo_text = ''\n",
    "for t in positivo['Treinamento']:\n",
    "    t = str(t)\n",
    "    positivo_text += t\n",
    "    \n",
    "samsung_pos = cleanup(positivo_text.lower())\n"
   ]
  },
  {
   "cell_type": "code",
   "execution_count": 32,
   "metadata": {},
   "outputs": [],
   "source": [
    "negativo_text = ''\n",
    "for t in negativo['Treinamento']:\n",
    "    t = str(t)\n",
    "    negativo_text += t\n",
    "    \n",
    "samsung_neg = cleanup(negativo_text.lower())"
   ]
  },
  {
   "cell_type": "code",
   "execution_count": 33,
   "metadata": {},
   "outputs": [],
   "source": [
    "neutro_text = ''\n",
    "for t in neutro['Treinamento']:\n",
    "    t = str(t)\n",
    "    neutro_text += t\n",
    "    \n",
    "samsung_neu = cleanup(neutro_text.lower())"
   ]
  },
  {
   "cell_type": "markdown",
   "metadata": {},
   "source": [
    "___\n",
    "### Treinando o Classificador "
   ]
  },
  {
   "cell_type": "code",
   "execution_count": 40,
   "metadata": {},
   "outputs": [
    {
     "data": {
      "text/plain": [
       "samsung                   0.054438\n",
       "de                        0.030769\n",
       "é                         0.030769\n",
       "a                         0.023669\n",
       "o                         0.020118\n",
       "e                         0.020118\n",
       "que                       0.018935\n",
       "eu                        0.017751\n",
       "da                        0.016568\n",
       "//t                       0.014201\n",
       "https                     0.014201\n",
       "um                        0.010651\n",
       "celular                   0.010651\n",
       "com                       0.009467\n",
       "bom                       0.009467\n",
       "não                       0.008284\n",
       "por                       0.008284\n",
       "mais                      0.008284\n",
       "meu                       0.008284\n",
       "me                        0.008284\n",
       "muito                     0.007101\n",
       "pra                       0.007101\n",
       "mas                       0.005917\n",
       "@samsungbrasil            0.005917\n",
       "novo                      0.005917\n",
       "tá                        0.005917\n",
       "se                        0.005917\n",
       "em                        0.005917\n",
       "iphone                    0.005917\n",
       "note                      0.004734\n",
       "                            ...   \n",
       "provar                    0.001183\n",
       "terá                      0.001183\n",
       "puder                     0.001183\n",
       "tocar                     0.001183\n",
       "feliz                     0.001183\n",
       "bonitos                   0.001183\n",
       "nível                     0.001183\n",
       "ajuda                     0.001183\n",
       "comerciais                0.001183\n",
       "amoeu                     0.001183\n",
       "preguiça                  0.001183\n",
       "guias                     0.001183\n",
       "co/jquacwyousrt           0.001183\n",
       "msm💖💖💖a                   0.001183\n",
       "co/bgnqjw8cgg             0.001183\n",
       "baratas                   0.001183\n",
       "motorola                  0.001183\n",
       "roda                      0.001183\n",
       "arrepender@hanashirode    0.001183\n",
       "a01                       0.001183\n",
       "ficha                     0.001183\n",
       "meus                      0.001183\n",
       "foto                      0.001183\n",
       "partir                    0.001183\n",
       "voltei                    0.001183\n",
       "fui                       0.001183\n",
       "solucionou                0.001183\n",
       "aparelhos                 0.001183\n",
       "anitta                    0.001183\n",
       "aplicativo                0.001183\n",
       "Length: 433, dtype: float64"
      ]
     },
     "execution_count": 40,
     "metadata": {},
     "output_type": "execute_result"
    }
   ],
   "source": [
    "# positivo\n",
    "serie_samsung_pos = pd.Series(samsung_pos.split())\n",
    "tabela_samsung_pos = serie_samsung_pos.value_counts()\n",
    "tabela_samsung_pos_relativa = serie_samsung_pos.value_counts(True)\n",
    "tabela_samsung_pos_relativa \n",
    "#tabela_samsung_pos_relativa.sum()\n",
    "#tabela_samsung_pos_relativa[\"samsung\"]"
   ]
  },
  {
   "cell_type": "code",
   "execution_count": 41,
   "metadata": {},
   "outputs": [
    {
     "data": {
      "text/plain": [
       "samsung                0.045757\n",
       "a                      0.029950\n",
       "o                      0.029118\n",
       "e                      0.024958\n",
       "um                     0.024126\n",
       "é                      0.021631\n",
       "que                    0.019967\n",
       "de                     0.019135\n",
       "não                    0.019135\n",
       "da                     0.015807\n",
       "com                    0.013311\n",
       "do                     0.011647\n",
       "pra                    0.011647\n",
       "eu                     0.011647\n",
       "em                     0.009983\n",
       "celular                0.009151\n",
       "mais                   0.007488\n",
       "pq                     0.007488\n",
       "no                     0.007488\n",
       "android                0.006656\n",
       "meu                    0.006656\n",
       "na                     0.006656\n",
       "q                      0.006656\n",
       "10                     0.005824\n",
       "tinha                  0.005824\n",
       "uma                    0.005824\n",
       "mas                    0.005824\n",
       "tem                    0.005824\n",
       "sem                    0.004992\n",
       "iphone                 0.004992\n",
       "                         ...   \n",
       "homekit                0.000832\n",
       "nos                    0.000832\n",
       "dó@dededeboa           0.000832\n",
       "acredita               0.000832\n",
       "dois                   0.000832\n",
       "a30                    0.000832\n",
       "postar                 0.000832\n",
       "iphonetô               0.000832\n",
       "co/qlfms8zfonque       0.000832\n",
       "além                   0.000832\n",
       "melhorar               0.000832\n",
       "20                     0.000832\n",
       "pessoas                0.000832\n",
       "desrecomendo           0.000832\n",
       "futuro                 0.000832\n",
       "teclado                0.000832\n",
       "quebrado               0.000832\n",
       "vó                     0.000832\n",
       "olha                   0.000832\n",
       "odiar                  0.000832\n",
       "acredito               0.000832\n",
       "parecendo              0.000832\n",
       "motorola               0.000832\n",
       "espera                 0.000832\n",
       "gravando               0.000832\n",
       "usa                    0.000832\n",
       "samsunginfelizmente    0.000832\n",
       "desse                  0.000832\n",
       "fodasse@pedrolapera    0.000832\n",
       "kkkkkkkk               0.000832\n",
       "Length: 533, dtype: float64"
      ]
     },
     "execution_count": 41,
     "metadata": {},
     "output_type": "execute_result"
    }
   ],
   "source": [
    "# negativo\n",
    "serie_samsung_neg = pd.Series(samsung_neg.split())\n",
    "tabela_samsung_neg = serie_samsung_neg.value_counts()\n",
    "tabela_samsung_neg_relativa = serie_samsung_neg.value_counts(True)\n",
    "tabela_samsung_neg_relativa\n",
    "#tabela_samsung_neg_relativa.sum()\n",
    "#tabela_samsung_neg_relativa[\"samsung\"]"
   ]
  },
  {
   "cell_type": "code",
   "execution_count": 42,
   "metadata": {},
   "outputs": [
    {
     "data": {
      "text/plain": [
       "samsung                      0.037773\n",
       "//t                          0.036282\n",
       "https                        0.035537\n",
       "e                            0.030318\n",
       "de                           0.027336\n",
       "o                            0.024602\n",
       "a                            0.014662\n",
       "da                           0.012177\n",
       "é                            0.011928\n",
       "que                          0.010686\n",
       "até                          0.010437\n",
       "no                           0.010189\n",
       "do                           0.009940\n",
       "notebook                     0.008201\n",
       "eu                           0.008201\n",
       "um                           0.007952\n",
       "com                          0.007952\n",
       "70                           0.007704\n",
       "2020                         0.007704\n",
       "acesse                       0.007455\n",
       "macbook                      0.007455\n",
       "março                        0.007207\n",
       "computadores                 0.007207\n",
       "lenovo                       0.007207\n",
       "use                          0.007207\n",
       "código                       0.007207\n",
       "informática                  0.007207\n",
       "acer                         0.007207\n",
       "ganhe                        0.007207\n",
       "dell                         0.007207\n",
       "                               ...   \n",
       "amei                         0.000249\n",
       "vr                           0.000249\n",
       "vida                         0.000249\n",
       "aprova                       0.000249\n",
       "pena                         0.000249\n",
       "jeito                        0.000249\n",
       "programas                    0.000249\n",
       "co/csuvmdtlvc@thiago_fela    0.000249\n",
       "snext                        0.000249\n",
       "acreditar                    0.000249\n",
       "co/gy55efzlks                0.000249\n",
       "penso                        0.000249\n",
       "poeira                       0.000249\n",
       "co/3wndagxjhocupom           0.000249\n",
       "co/cujfws91ogrt              0.000249\n",
       "iphone@seokminish            0.000249\n",
       "vietnã                       0.000249\n",
       "suicideboys                  0.000249\n",
       "recomendar                   0.000249\n",
       "💔@dudeexx_                   0.000249\n",
       "hpe                          0.000249\n",
       "precinho                     0.000249\n",
       "samsungqueria                0.000249\n",
       "feio                         0.000249\n",
       "fudido                       0.000249\n",
       "comercializar                0.000249\n",
       "ambiente                     0.000249\n",
       "pow                          0.000249\n",
       "entre                        0.000249\n",
       "motoecupom                   0.000249\n",
       "Length: 1330, dtype: float64"
      ]
     },
     "execution_count": 42,
     "metadata": {},
     "output_type": "execute_result"
    }
   ],
   "source": [
    "# neutro\n",
    "serie_samsung_neu = pd.Series(samsung_neu.split())\n",
    "tabela_samsung_neu = serie_samsung_neu.value_counts()\n",
    "tabela_samsung_neu_relativa = serie_samsung_neu.value_counts(True)\n",
    "tabela_samsung_neu_relativa\n",
    "#tabela_samsung_neu_relativa.sum()\n",
    "#tabela_samsung_neu_relativa[\"samsung\"]"
   ]
  },
  {
   "cell_type": "markdown",
   "metadata": {},
   "source": [
    "___\n",
    "### Verificando a performance do Classificador\n",
    "\n",
    "Agora você deve testar o seu classificador com a base de Testes."
   ]
  },
  {
   "cell_type": "code",
   "execution_count": 24,
   "metadata": {},
   "outputs": [
    {
     "data": {
      "text/plain": [
       "Teste                 até agr sem acreditar que acharam o samsung po...\n",
       "Grau de relevancia                                                    0\n",
       "Name: 231, dtype: object"
      ]
     },
     "execution_count": 24,
     "metadata": {},
     "output_type": "execute_result"
    }
   ],
   "source": [
    "teste = pd.read_excel('samsung1.xlsx','Teste')\n",
    "teste.iloc[231]\n"
   ]
  },
  {
   "cell_type": "code",
   "execution_count": 15,
   "metadata": {},
   "outputs": [],
   "source": [
    "samsung = samsung_pos + samsung_neg + samsung_neu"
   ]
  },
  {
   "cell_type": "code",
   "execution_count": 16,
   "metadata": {},
   "outputs": [
    {
     "data": {
      "text/plain": [
       "0.04168726314055034"
      ]
     },
     "execution_count": 16,
     "metadata": {},
     "output_type": "execute_result"
    }
   ],
   "source": [
    "serie_samsung = pd.Series(samsung.split())\n",
    "tabela_samsung_relativa = serie_samsung.value_counts(True)\n",
    "tabela_samsung_relativa[\"samsung\"]"
   ]
  },
  {
   "cell_type": "code",
   "execution_count": 17,
   "metadata": {},
   "outputs": [],
   "source": [
    "#interseçao\n",
    "\n",
    "set_posi = set(tabela_samsung_pos_relativa.index)\n",
    "set_nega = set(tabela_samsung_neg_relativa.index)\n",
    "set_neut = set(tabela_samsung_neu_relativa.index)\n",
    "\n"
   ]
  },
  {
   "cell_type": "code",
   "execution_count": 18,
   "metadata": {},
   "outputs": [],
   "source": [
    "#frase\n",
    "\n",
    "frase = 'samsung me mandou um convite bacana para a pré venda do galaxy s20, aceitei...mas e aí cadê o dinheiro kkkkk sem falar do absurdo de caro que deve ser aqui no brasil'\n",
    "frase = cleanup(frase.lower())\n",
    "\n",
    "tabela_frase = pd.Series(frase.split())\n",
    "tabela_frase_a = tabela_frase.value_counts(True)\n"
   ]
  },
  {
   "cell_type": "code",
   "execution_count": 19,
   "metadata": {},
   "outputs": [],
   "source": [
    "#pneg = tabela_samsung_relativa[serie_samsung_neg]\n",
    "#probneg = len(tabela_samsung)/len(serie_samsung_neg)\n",
    "\n",
    "tabela_samsung_absolut = serie_samsung.value_counts()\n",
    "tabela_samsung_absolut.sum()\n",
    "\n",
    "ppos = tabela_samsung_pos.sum()/tabela_samsung_absolut.sum()\n",
    "pneg = tabela_samsung_neg.sum()/tabela_samsung_absolut.sum()\n",
    "pneu = tabela_samsung_neu.sum()/tabela_samsung_absolut.sum()\n",
    "\n",
    "\n"
   ]
  },
  {
   "cell_type": "code",
   "execution_count": 20,
   "metadata": {},
   "outputs": [
    {
     "name": "stdout",
     "output_type": "stream",
     "text": [
      "['samsung' 'me' 'mandou' 'um' 'convite' 'bacana' 'para' 'a' 'pré' 'venda'\n",
      " 'do' 'galaxy' 's20' 'aceitei' 'mas' 'e' 'aí' 'cadê' 'o' 'dinheiro'\n",
      " 'kkkkk' 'sem' 'falar' 'do' 'absurdo' 'de' 'caro' 'que' 'deve' 'ser'\n",
      " 'aqui' 'no' 'brasil']\n",
      "3.692290231417897e-43\n",
      "3.413840713841756e-84\n",
      "3.070871784163999e-67\n"
     ]
    }
   ],
   "source": [
    "print(tabela_frase.values)\n",
    "\n",
    "pposPO=tabela_samsung_pos_relativa[tabela_frase.values]\n",
    "print(pposPO.prod())\n",
    "\n",
    "pposNG=tabela_samsung_neg_relativa[tabela_frase.values]\n",
    "print(pposNG.prod())\n",
    "\n",
    "pposNT=tabela_samsung_neu_relativa[tabela_frase.values]\n",
    "print(pposNT.prod())"
   ]
  },
  {
   "cell_type": "code",
   "execution_count": 21,
   "metadata": {},
   "outputs": [
    {
     "name": "stdout",
     "output_type": "stream",
     "text": [
      "5.14085557018969e-44\n",
      "6.761305879119774e-85\n",
      "2.0361160091408685e-67\n"
     ]
    }
   ],
   "source": [
    "pposf =pposPO.prod()*ppos\n",
    "print(pposf)\n",
    "pnegf =pposNG.prod()*pneg\n",
    "print(pnegf)\n",
    "pneuf =pposNT.prod()*pneu\n",
    "print(pneuf)"
   ]
  },
  {
   "cell_type": "code",
   "execution_count": null,
   "metadata": {},
   "outputs": [],
   "source": []
  },
  {
   "cell_type": "markdown",
   "metadata": {},
   "source": [
    "___\n",
    "### Concluindo"
   ]
  },
  {
   "cell_type": "code",
   "execution_count": null,
   "metadata": {},
   "outputs": [],
   "source": []
  },
  {
   "cell_type": "code",
   "execution_count": null,
   "metadata": {},
   "outputs": [],
   "source": []
  },
  {
   "cell_type": "code",
   "execution_count": null,
   "metadata": {},
   "outputs": [],
   "source": []
  },
  {
   "cell_type": "code",
   "execution_count": null,
   "metadata": {},
   "outputs": [],
   "source": []
  },
  {
   "cell_type": "markdown",
   "metadata": {},
   "source": [
    "___\n",
    "## Aperfeiçoamento:\n",
    "\n",
    "Os trabalhos vão evoluir em conceito dependendo da quantidade de itens avançados:\n",
    "\n",
    "* Limpar: \\n, :, \", ', (, ), etc SEM remover emojis\n",
    "* Corrigir separação de espaços entre palavras e emojis ou entre emojis e emojis\n",
    "* Propor outras limpezas e transformações que não afetem a qualidade da informação ou classificação\n",
    "* Criar categorias intermediárias de relevância baseadas na probabilidade: ex.: muito relevante, relevante, neutro, irrelevante, muito irrelevante (3 categorias: C, mais categorias conta para B)\n",
    "* Explicar por que não posso usar o próprio classificador para gerar mais amostras de treinamento\n",
    "* Propor diferentes cenários para Naïve Bayes fora do contexto do projeto\n",
    "* Sugerir e explicar melhorias reais com indicações concretas de como implementar (indicar como fazer e indicar material de pesquisa)\n",
    "* Montar um dashboard que periodicamente realiza análise de sentimento e visualiza estes dados"
   ]
  },
  {
   "cell_type": "markdown",
   "metadata": {},
   "source": [
    "___\n",
    "## Referências"
   ]
  },
  {
   "cell_type": "markdown",
   "metadata": {},
   "source": [
    "[Naive Bayes and Text Classification](https://arxiv.org/pdf/1410.5329.pdf)  **Mais completo**\n",
    "\n",
    "[A practical explanation of a Naive Bayes Classifier](https://monkeylearn.com/blog/practical-explanation-naive-bayes-classifier/) **Mais simples**"
   ]
  },
  {
   "cell_type": "code",
   "execution_count": null,
   "metadata": {},
   "outputs": [],
   "source": []
  }
 ],
 "metadata": {
  "kernelspec": {
   "display_name": "Python 3",
   "language": "python",
   "name": "python3"
  },
  "language_info": {
   "codemirror_mode": {
    "name": "ipython",
    "version": 3
   },
   "file_extension": ".py",
   "mimetype": "text/x-python",
   "name": "python",
   "nbconvert_exporter": "python",
   "pygments_lexer": "ipython3",
   "version": "3.7.3"
  }
 },
 "nbformat": 4,
 "nbformat_minor": 4
}
